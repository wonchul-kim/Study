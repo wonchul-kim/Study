{
 "cells": [
  {
   "cell_type": "markdown",
   "metadata": {},
   "source": [
    "https://machinelearningmastery.com/when-to-use-mlp-cnn-and-rnn-neural-networks/"
   ]
  },
  {
   "cell_type": "markdown",
   "metadata": {},
   "source": [
    "### When to use Multilayer Perceptrons"
   ]
  },
  {
   "cell_type": "markdown",
   "metadata": {},
   "source": [
    "MLPs are suitable for: \n",
    "* tabular datasets\n",
    "* classification prediction problems\n",
    "* regression prediction problems\n",
    "\n",
    ",where a real-valued quantity is predicted given a set of inputs. \n",
    "\n",
    "They are very flexible and can be used generally to learn a mapping from inputs to outputs.\n",
    "\n",
    "> The type of Data:\n",
    "    - image\n",
    "    - text\n",
    "    - time series\n",
    "    ...\n",
    "\n",
    "For example, the words of a document and the pixels of an image can be reduced down to one long row of data that can be fed into a MLP. Even the lag observations for a time series prediction can also be fed to a MLP after reducing them down to a long row of data. "
   ]
  },
  {
   "cell_type": "markdown",
   "metadata": {},
   "source": [
    "### When to use Convolutional Neural Networks?"
   ]
  },
  {
   "cell_type": "markdown",
   "metadata": {},
   "source": []
  },
  {
   "cell_type": "markdown",
   "metadata": {},
   "source": [
    "### When to use Recurrent Neural Networks?"
   ]
  },
  {
   "cell_type": "markdown",
   "metadata": {},
   "source": [
    "They are designed to work with sequence prediction problems.\n",
    "* one-to-many: an observation mapped to a sequence with multiple steps\n",
    "* many-to-one: a sequence of multiple steps mapped to class or quantity prediction\n",
    "* many-to-many: a sequence of multiple steps mapped to a sequence with multiple steps (also referred to as seq2seq)\n",
    "\n",
    "Recurrent neural networks were traditionally difficult to train.\n",
    "\n",
    "The Long Short-Term Memory, or LSTM, network is perhaps the most successful RNN because it overcomes the problems of training a recurrent network and in turn has been used on a wide range of applications.\n",
    "\n",
    "RNNs are suitable for:\n",
    "* text data\n",
    "* speech data\n",
    "* classification prediction problems\n",
    "* regression prediction problems\n",
    "* generative models\n",
    "\n",
    "NOT ***tabular data and image data***\n",
    "\n"
   ]
  },
  {
   "cell_type": "code",
   "execution_count": null,
   "metadata": {},
   "outputs": [],
   "source": []
  }
 ],
 "metadata": {
  "kernelspec": {
   "display_name": "Python 3",
   "language": "python",
   "name": "python3"
  },
  "language_info": {
   "codemirror_mode": {
    "name": "ipython",
    "version": 3
   },
   "file_extension": ".py",
   "mimetype": "text/x-python",
   "name": "python",
   "nbconvert_exporter": "python",
   "pygments_lexer": "ipython3",
   "version": "3.6.5"
  }
 },
 "nbformat": 4,
 "nbformat_minor": 2
}
