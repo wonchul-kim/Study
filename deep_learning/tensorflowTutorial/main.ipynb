{
 "cells": [
  {
   "cell_type": "markdown",
   "metadata": {},
   "source": [
    "### To learn tensorflow\n",
    "\n",
    "- Build Deep NN\n",
    "- Saver\n",
    "- Tensorboard\n",
    "- dropout"
   ]
  },
  {
   "cell_type": "code",
   "execution_count": 1,
   "metadata": {},
   "outputs": [],
   "source": [
    "import tensorflow as tf\n",
    "import numpy as np\n",
    "import matplotlib.pyplot as plt"
   ]
  },
  {
   "cell_type": "code",
   "execution_count": 2,
   "metadata": {},
   "outputs": [],
   "source": [
    "from tensorflow.examples.tutorials.mnist import input_data"
   ]
  },
  {
   "cell_type": "code",
   "execution_count": 3,
   "metadata": {
    "scrolled": true
   },
   "outputs": [
    {
     "name": "stdout",
     "output_type": "stream",
     "text": [
      "WARNING:tensorflow:From <ipython-input-3-6fa84048fdd1>:1: read_data_sets (from tensorflow.contrib.learn.python.learn.datasets.mnist) is deprecated and will be removed in a future version.\n",
      "Instructions for updating:\n",
      "Please use alternatives such as official/mnist/dataset.py from tensorflow/models.\n",
      "WARNING:tensorflow:From /usr/local/lib/python3.5/dist-packages/tensorflow/contrib/learn/python/learn/datasets/mnist.py:260: maybe_download (from tensorflow.contrib.learn.python.learn.datasets.base) is deprecated and will be removed in a future version.\n",
      "Instructions for updating:\n",
      "Please write your own downloading logic.\n",
      "WARNING:tensorflow:From /usr/local/lib/python3.5/dist-packages/tensorflow/contrib/learn/python/learn/datasets/mnist.py:262: extract_images (from tensorflow.contrib.learn.python.learn.datasets.mnist) is deprecated and will be removed in a future version.\n",
      "Instructions for updating:\n",
      "Please use tf.data to implement this functionality.\n",
      "Extracting ./mnist/data/train-images-idx3-ubyte.gz\n",
      "WARNING:tensorflow:From /usr/local/lib/python3.5/dist-packages/tensorflow/contrib/learn/python/learn/datasets/mnist.py:267: extract_labels (from tensorflow.contrib.learn.python.learn.datasets.mnist) is deprecated and will be removed in a future version.\n",
      "Instructions for updating:\n",
      "Please use tf.data to implement this functionality.\n",
      "Extracting ./mnist/data/train-labels-idx1-ubyte.gz\n",
      "WARNING:tensorflow:From /usr/local/lib/python3.5/dist-packages/tensorflow/contrib/learn/python/learn/datasets/mnist.py:110: dense_to_one_hot (from tensorflow.contrib.learn.python.learn.datasets.mnist) is deprecated and will be removed in a future version.\n",
      "Instructions for updating:\n",
      "Please use tf.one_hot on tensors.\n",
      "Extracting ./mnist/data/t10k-images-idx3-ubyte.gz\n",
      "Extracting ./mnist/data/t10k-labels-idx1-ubyte.gz\n",
      "WARNING:tensorflow:From /usr/local/lib/python3.5/dist-packages/tensorflow/contrib/learn/python/learn/datasets/mnist.py:290: DataSet.__init__ (from tensorflow.contrib.learn.python.learn.datasets.mnist) is deprecated and will be removed in a future version.\n",
      "Instructions for updating:\n",
      "Please use alternatives such as official/mnist/dataset.py from tensorflow/models.\n"
     ]
    }
   ],
   "source": [
    "mnist = input_data.read_data_sets(\"./mnist/data/\", one_hot=True)"
   ]
  },
  {
   "cell_type": "code",
   "execution_count": 4,
   "metadata": {},
   "outputs": [],
   "source": [
    "lr = 1e-3\n",
    "dropout_prob = 0.08\n",
    "loadModel = False"
   ]
  },
  {
   "cell_type": "code",
   "execution_count": 5,
   "metadata": {},
   "outputs": [],
   "source": [
    "global_step = tf.Variable(0, trainable=False, name='global_step')\n",
    "\n",
    "X = tf.placeholder(tf.float32, [None, 784])\n",
    "Y = tf.placeholder(tf.float32, [None, 10])\n",
    "dropoutProb = tf.placeholder(tf.float32)\n",
    "\n",
    "with tf.name_scope('layer1'):\n",
    "    W1 = tf.Variable(tf.random_normal([784, 256], stddev=0.01), name='W1')\n",
    "    L1 = tf.nn.relu(tf.matmul(X, W1))\n",
    "    L1 = tf.nn.dropout(L1, dropoutProb)\n",
    "    \n",
    "    tf.summary.histogram(\"X\", X)\n",
    "    tf.summary.histogram(\"Weights\", W1)\n",
    "with tf.name_scope('layer2'):\n",
    "    W2 = tf.Variable(tf.random_normal([256, 256], stddev=0.01), name='W2')\n",
    "    L2 = tf.nn.relu(tf.matmul(L1, W2))\n",
    "    L2 = tf.nn.dropout(L2, dropoutProb)\n",
    "    \n",
    "    tf.summary.histogram(\"Weights\", W2)\n",
    "\n",
    "with tf.name_scope('layer3'):\n",
    "    W3 = tf.Variable(tf.random_normal([256, 10], stddev=0.01), name='W3')\n",
    "    output = tf.matmul(L2, W3)\n",
    "    \n",
    "    tf.summary.histogram(\"Weights\", W3)\n",
    "    tf.summary.histogram(\"Output\", output)\n",
    "\n",
    "with tf.name_scope('optimizer'):\n",
    "    loss = tf.reduce_mean(tf.nn.softmax_cross_entropy_with_logits_v2(logits=output, labels=Y))\n",
    "    optimizer = tf.train.AdamOptimizer(lr).minimize(loss, global_step=global_step)\n",
    "    \n",
    "    # to collect the data I want to see\n",
    "    tf.summary.scalar('loss', loss)\n",
    "    "
   ]
  },
  {
   "cell_type": "code",
   "execution_count": 6,
   "metadata": {
    "scrolled": true
   },
   "outputs": [
    {
     "name": "stdout",
     "output_type": "stream",
     "text": [
      "Epoch: 1.000  |   avg. cost= 3220346532214.087\n",
      "Epoch: 2.000  |   avg. cost= 17113918857.117\n",
      "Epoch: 3.000  |   avg. cost= 36126442814.602\n",
      "Epoch: 4.000  |   avg. cost= 1122550.552\n",
      "Epoch: 5.000  |   avg. cost= 3632574093.897\n",
      "Epoch: 6.000  |   avg. cost= 2.303\n",
      "Epoch: 7.000  |   avg. cost= 2.303\n",
      "Epoch: 8.000  |   avg. cost= 2.303\n",
      "Epoch: 9.000  |   avg. cost= 2.303\n",
      "Epoch: 10.000  |   avg. cost= 14363229907.673\n",
      "Epoch: 11.000  |   avg. cost= 2.303\n",
      "Epoch: 12.000  |   avg. cost= 2.303\n",
      "Epoch: 13.000  |   avg. cost= 1050967544.952\n",
      "Epoch: 14.000  |   avg. cost= 2.303\n",
      "Epoch: 15.000  |   avg. cost= 649676913.970\n",
      "Epoch: 16.000  |   avg. cost= 2.303\n",
      "Epoch: 17.000  |   avg. cost= 2.303\n",
      "Epoch: 18.000  |   avg. cost= 2.303\n",
      "Epoch: 19.000  |   avg. cost= 2.303\n",
      "Epoch: 20.000  |   avg. cost= 2.303\n",
      "Epoch: 21.000  |   avg. cost= 2.303\n",
      "Epoch: 22.000  |   avg. cost= 2.303\n",
      "Epoch: 23.000  |   avg. cost= 2.303\n",
      "Epoch: 24.000  |   avg. cost= 8163920209.388\n",
      "Epoch: 25.000  |   avg. cost= 2.303\n",
      "Epoch: 26.000  |   avg. cost= 2.303\n",
      "Epoch: 27.000  |   avg. cost= 2.303\n",
      "Epoch: 28.000  |   avg. cost= 2.303\n",
      "Epoch: 29.000  |   avg. cost= 2.303\n",
      "Epoch: 30.000  |   avg. cost= 2.303\n",
      ">>> Complete and saved the model !!!\n"
     ]
    }
   ],
   "source": [
    "sess = tf.Session()\n",
    "\n",
    "# saver ===============================================\n",
    "saver = tf.train.Saver(tf.global_variables())\n",
    "ckpt = tf.train.get_checkpoint_state('./model')\n",
    "if ckpt and tf.train.checkpoint_exists(ckpt.model_checkpoint_path) and loadModel:\n",
    "    saver.restore(sess, ckpt.model_checkpoint_path)\n",
    "    print(\">>> Loaded the model .......\")\n",
    "else:\n",
    "    sess.run(tf.global_variables_initializer())\n",
    "\n",
    "# tensorboard =========================================\n",
    "'''\n",
    "on webserver,   tensorboard --logdir=./logs  \n",
    "and then, we can see it on      http://localhost:6006\n",
    "'''\n",
    "merged = tf.summary.merge_all()\n",
    "writer = tf.summary.FileWriter('./logs', sess.graph)\n",
    "\n",
    "# start training ======================================\n",
    "batch_size = 1000\n",
    "total_batch = int(mnist.train.num_examples/batch_size)\n",
    "\n",
    "for epoch in range(30):\n",
    "    total_cost = 0\n",
    "    \n",
    "    for i in range(total_batch):\n",
    "        batch_xs, batch_ys = mnist.train.next_batch(batch_size)\n",
    "        \n",
    "        summary, _, cost, _ = sess.run([merged, optimizer, loss, global_step], \\\n",
    "                          {X: batch_xs, Y: batch_ys, dropoutProb: dropout_prob})\n",
    "        total_cost += cost\n",
    "        \n",
    "#         summary = sess.run(merged, {X: batch_xs, Y: batch_ys, dropoutProb: dropout_prob})\n",
    "        writer.add_summary(summary, global_step=sess.run(global_step))\n",
    "        \n",
    "    print('Epoch: {:.3f}  |   avg. cost= {:.3f}'.format(epoch + 1, total_cost/total_batch))\n",
    "\n",
    "saver.save(sess, './model/mnistModel.ckpt', global_step=global_step)\n",
    "print(\">>> Complete and saved the model !!!\")"
   ]
  },
  {
   "cell_type": "code",
   "execution_count": null,
   "metadata": {},
   "outputs": [],
   "source": [
    "is_correct = tf.equal(tf.argmax(output, 1), tf.argmax(Y, 1))\n",
    "accuracy = tf.reduce_mean(tf.cast(is_correct, tf.float32))\n",
    "print('Accuracy:', sess.run(accuracy,\n",
    "                        feed_dict={X: mnist.test.images,\n",
    "                                   Y: mnist.test.labels,\n",
    "                                   dropoutProb: 1}))"
   ]
  },
  {
   "cell_type": "code",
   "execution_count": null,
   "metadata": {},
   "outputs": [],
   "source": [
    "labels = sess.run(output,\n",
    "                  feed_dict={X: mnist.test.images,\n",
    "                             Y: mnist.test.labels,\n",
    "                             dropoutProb: 1})\n",
    "\n",
    "fig = plt.figure()\n",
    "for i in range(10):\n",
    "    subplot = fig.add_subplot(2, 5, i + 1)\n",
    "    subplot.set_xticks([])\n",
    "    subplot.set_yticks([])\n",
    "    subplot.set_title('%d' % np.argmax(labels[i]))\n",
    "    subplot.imshow(mnist.test.images[i].reshape((28, 28)),\n",
    "                   cmap=plt.cm.gray_r)\n",
    "\n",
    "plt.savefig('./figs/mnist_results.png')\n",
    "plt.show()"
   ]
  },
  {
   "cell_type": "code",
   "execution_count": null,
   "metadata": {},
   "outputs": [],
   "source": []
  }
 ],
 "metadata": {
  "kernelspec": {
   "display_name": "Python 3",
   "language": "python",
   "name": "python3"
  },
  "language_info": {
   "codemirror_mode": {
    "name": "ipython",
    "version": 3
   },
   "file_extension": ".py",
   "mimetype": "text/x-python",
   "name": "python",
   "nbconvert_exporter": "python",
   "pygments_lexer": "ipython3",
   "version": "3.6.5"
  }
 },
 "nbformat": 4,
 "nbformat_minor": 2
}
