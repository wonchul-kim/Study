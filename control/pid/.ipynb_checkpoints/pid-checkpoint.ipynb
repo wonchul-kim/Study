{
 "cells": [
  {
   "cell_type": "code",
   "execution_count": 9,
   "metadata": {},
   "outputs": [],
   "source": [
    "import time"
   ]
  },
  {
   "cell_type": "code",
   "execution_count": 10,
   "metadata": {},
   "outputs": [],
   "source": [
    "class pidController:\n",
    "    def __init__(self, p=0.0, i=0.0, d=0.0, windup_use=False):\n",
    "        self.kp = p\n",
    "        self.ki = i\n",
    "        self.kd = d\n",
    "        self.windup_use = windup_use\n",
    "        \n",
    "        self.sample_time = 0.0\n",
    "        self.cur_time = time.time()\n",
    "        self.prev_time = self.cur_time\n",
    "        \n",
    "        self.clear()\n",
    "        \n",
    "    def clear(self):\n",
    "        self.setPoint = 0.0\n",
    "        \n",
    "        self.pTerm = 0.0\n",
    "        self.iTerm = 0.0\n",
    "        self.dTerm = 0.0\n",
    "        self.prev_err = 0.0\n",
    "        \n",
    "        # windup guard\n",
    "        self.int_err = 0.0\n",
    "        self.windup = 20.0\n",
    "        \n",
    "        self.output = 0.0\n",
    "        \n",
    "    def update(self, feedback_val):\n",
    "        # u(t) = K_p e(t) + K_i \\int_{0}^{t} e(t)dt + K_d {de}/{dt}\n",
    "        cur_err = self.setPoint - feedback_val\n",
    "        \n",
    "        self.cur_time = time.time()\n",
    "        dt = self.cur_time - self.prev_time\n",
    "        de = cur_err - self.prev_err\n",
    "        \n",
    "        if(dt >= self.sample_time):\n",
    "            self.pTerm = cur_err\n",
    "            self.iTerm += cur_err*dt\n",
    "            \n",
    "            if(self.windup_use):\n",
    "                if(self.iTerm < -self.windup):\n",
    "                    self.iTerm = - self.windup\n",
    "                elif(self.iTerm > self.windup):\n",
    "                    self.iTerm = self.windup\n",
    "            \n",
    "            self.dTerm = 0.0\n",
    "            if(dt > 0):\n",
    "                self.dTerm = de/dt\n",
    "                \n",
    "            self.prev_time = self.cur_time\n",
    "            self.prev_err = cur_err\n",
    "            \n",
    "            self.output = self.kp*self.pTerm + self.ki*self.iTerm + self.kd*self.dTerm\n",
    "            \n",
    "    def setKp(self, proportional_gain):\n",
    "        self.kp = proportional_gain\n",
    "\n",
    "    def setKi(self, integral_gain):\n",
    "        self.ki = integral_gain\n",
    "\n",
    "    def setKd(self, derivative_gain):\n",
    "        self.kd = derivative_gain\n",
    "\n",
    "    def setWindup(self, windup):\n",
    "        \"\"\"Integral windup, also known as integrator windup or reset windup,\n",
    "        refers to the situation in a PID feedback controller where\n",
    "        a large change in setpoint occurs (say a positive change)\n",
    "        and the integral terms accumulates a significant error\n",
    "        during the rise (windup), thus overshooting and continuing\n",
    "        to increase as this accumulated error is unwound\n",
    "        (offset by errors in the other direction).\n",
    "        The specific problem is the excess overshooting.\n",
    "        \"\"\"\n",
    "        self.windup = windup\n",
    "\n",
    "    def setSampleTime(self, sample_time):\n",
    "        \"\"\"PID that should be updated at a regular interval.\n",
    "        Based on a pre-determined sampe time, the PID decides if it should compute or return immediately.\n",
    "        \"\"\"\n",
    "        self.sample_time = sample_time"
   ]
  },
  {
   "cell_type": "code",
   "execution_count": 11,
   "metadata": {},
   "outputs": [],
   "source": [
    "\n",
    "\n",
    "import matplotlib.pyplot as plt\n",
    "import numpy as np\n",
    "from scipy.interpolate import spline\n",
    "\n",
    "# matplotlib inline\n",
    "\n"
   ]
  },
  {
   "cell_type": "code",
   "execution_count": 14,
   "metadata": {},
   "outputs": [
    {
     "name": "stderr",
     "output_type": "stream",
     "text": [
      "/home/wonchul/.virtualenvs/p3/lib/python3.6/site-packages/ipykernel_launcher.py:31: DeprecationWarning: `spline` is deprecated!\n",
      "spline is deprecated in scipy 0.19.0, use Bspline class instead.\n"
     ]
    },
    {
     "data": {
      "image/png": "[encoded data removed]",
      "text/plain": [
       "<Figure size 432x288 with 1 Axes>"
      ]
     },
     "metadata": {
      "needs_background": "light"
     },
     "output_type": "display_data"
    }
   ],
   "source": [
    "pid = pidController(0.9, 0.1, 0.00001)\n",
    "itr_f = 100\n",
    "feedback = 0.0\n",
    "pid.setPoint = 0.0\n",
    "pid.setSampleTime(0.01)\n",
    "\n",
    "feedback_list = []\n",
    "time_list = []\n",
    "setPoint_list = []\n",
    "\n",
    "for i in range(1, itr_f):\n",
    "    pid.update(feedback)\n",
    "    output = pid.output\n",
    "\n",
    "    if(pid.setPoint > 0):\n",
    "        feedback += (output - 1/i)\n",
    "    if(i > 9):\n",
    "        pid.setPoint = 1\n",
    "    \n",
    "    if(i > 50):\n",
    "        pid.setPoint = -2\n",
    "        \n",
    "    time.sleep(0.02)\n",
    "\n",
    "    \n",
    "    feedback_list.append(feedback)\n",
    "    setPoint_list.append(pid.setPoint)\n",
    "    time_list.append(i)\n",
    "\n",
    "time_sm = np.array(time_list)\n",
    "time_smooth = np.linspace(time_sm.min(), time_sm.max(), 300)\n",
    "feedback_smooth = spline(time_list, feedback_list, time_smooth)\n",
    "\n",
    "plt.plot(time_list, setPoint_list)\n",
    "plt.plot(time_smooth, feedback_smooth)\n",
    "# plt.plot(time_list, feedback_list)\n",
    "plt.legend(['set point', 'current value'])\n",
    "plt.grid()\n",
    "plt.show()"
   ]
  },
  {
   "cell_type": "code",
   "execution_count": null,
   "metadata": {},
   "outputs": [],
   "source": []
  }
 ],
 "metadata": {
  "kernelspec": {
   "display_name": "Python 3",
   "language": "python",
   "name": "python3"
  },
  "language_info": {
   "codemirror_mode": {
    "name": "ipython",
    "version": 3
   },
   "file_extension": ".py",
   "mimetype": "text/x-python",
   "name": "python",
   "nbconvert_exporter": "python",
   "pygments_lexer": "ipython3",
   "version": "3.6.5"
  }
 },
 "nbformat": 4,
 "nbformat_minor": 2
}
