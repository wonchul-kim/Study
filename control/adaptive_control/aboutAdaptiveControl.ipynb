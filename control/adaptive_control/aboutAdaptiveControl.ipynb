{
 "cells": [
  {
   "cell_type": "markdown",
   "metadata": {},
   "source": [
    "**Adaptive control** is the control method used by a controller which must adapt to a controlled system with parameters which vary, or are initially uncertain.\n",
    "\n",
    "For example, as an aircraft flies, its mass will slowly decrease as a result of fuel consumption; a control law is needed that adapts itself to such changing conditions. \n",
    "\n",
    "Adaptive control is different from **robust control** in that it does not need a priori information about the bounds on these uncertain or time-varying parameters; robust control guarantees that if the changes are within given bounds the control law need not be changed, while adaptive control is concerned with control law changing itself. "
   ]
  },
  {
   "cell_type": "markdown",
   "metadata": {},
   "source": [
    "The foundation of adaptive control is <U>parameter estimation</U>, which is a branch of system identification. Common methods of estimation include <U>recursive least squares</U> and <U>gradient descent</U>. Both of these methods provide update laws which are used to modify estimates in real time. <U>Lyapunov stability</U> is used to derive these update laws and show convergence criteria (typically persistent excitation; relaxation of this condition are studied in Concurrent Learning adaptive control). Projection (mathematics) and normalization are commonly used to improve the robustness of estimation algorithms. "
   ]
  },
  {
   "cell_type": "markdown",
   "metadata": {},
   "source": [
    "In general, there are two types of adaptive control:\n",
    "* feedforward adaptive control\n",
    "* feedback adaptive control\n",
    "\n",
    "and to derive theses, there are three methods:\n",
    "* direct methods\n",
    "* indirect methods\n",
    "* hybrid methods\n",
    "\n",
    "> In Direct methods, the estimated parameters are directly used in the adaptive controller. In contrast, indirect methods utilize the estimated parameters are to calculate required controller parameters. Hybrid methods rely on both estimation of parameters and direct modification of the control law.\n"
   ]
  },
  {
   "cell_type": "code",
   "execution_count": null,
   "metadata": {},
   "outputs": [],
   "source": []
  }
 ],
 "metadata": {
  "kernelspec": {
   "display_name": "Python 3",
   "language": "python",
   "name": "python3"
  },
  "language_info": {
   "codemirror_mode": {
    "name": "ipython",
    "version": 3
   },
   "file_extension": ".py",
   "mimetype": "text/x-python",
   "name": "python",
   "nbconvert_exporter": "python",
   "pygments_lexer": "ipython3",
   "version": "3.6.5"
  }
 },
 "nbformat": 4,
 "nbformat_minor": 2
}
