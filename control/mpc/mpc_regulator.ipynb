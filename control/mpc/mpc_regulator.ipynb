{
 "cells": [
  {
   "cell_type": "code",
   "execution_count": 4,
   "metadata": {},
   "outputs": [],
   "source": [
    "from cvxpy import *\n",
    "import numpy as np\n",
    "import matplotlib.pyplot as plt\n",
    "import time\n",
    "import matplotlib\n",
    "\n",
    "%matplotlib inline"
   ]
  },
  {
   "cell_type": "markdown",
   "metadata": {},
   "source": [
    "### Define system\n",
    "#### Linear system paramters(A, B) are randomly determined by $\\alpha$ and $\\beta$ "
   ]
  },
  {
   "cell_type": "code",
   "execution_count": 10,
   "metadata": {},
   "outputs": [
    {
     "name": "stdout",
     "output_type": "stream",
     "text": [
      "******************** SYSTEM ********************\n",
      "A:  [[ 1.32486907 -0.12235128 -0.10563435 -0.21459372]\n",
      " [ 0.17308153  0.53969226  0.34896235 -0.15224138]\n",
      " [ 0.06380782 -0.04987408  1.29242159 -0.41202814]\n",
      " [-0.06448344 -0.07681087  0.22675389  0.78002175]]\n",
      "B:  [[-0.17242821 -0.87785842]\n",
      " [ 0.04221375  0.58281521]\n",
      " [-1.10061918  1.14472371]\n",
      " [ 0.90159072  0.50249434]]\n",
      "x_0:  [[ 4.50427975]\n",
      " [-3.4186393 ]\n",
      " [-0.61445113]\n",
      " [-4.67884717]]\n",
      "************************************************\n"
     ]
    }
   ],
   "source": [
    "np.random.seed(1)\n",
    "\n",
    "n_x = 4 # states\n",
    "n_u = 2 # control inputs\n",
    "T = 50      # simulation time length\n",
    "\n",
    "# for randomly selecting system parameters\n",
    "alpha = 0.2 # for A\n",
    "beta = 5.   # for x_0\n",
    "\n",
    "A = np.eye(n_x) + alpha*np.random.randn(n_x, n_x)\n",
    "B = np.random.randn(n_x, n_u)\n",
    "\n",
    "x_0 = beta*np.random.randn(n_x, 1)\n",
    "\n",
    "print(\"******************** SYSTEM ********************\")\n",
    "print(\"A: \", A)\n",
    "print(\"B: \", B)\n",
    "print(\"x_0: \", x_0)\n",
    "print(\"************************************************\")"
   ]
  },
  {
   "cell_type": "code",
   "execution_count": 18,
   "metadata": {},
   "outputs": [],
   "source": [
    "x = Variable((n_x, T + 1))\n",
    "u = Variable((n_u, T))\n",
    "\n",
    "prob_list = []\n",
    "for t in range(T):\n",
    "    J = sum_squares(x[:, t + 1]) + sum_squares(u[:, t])\n",
    "    # system is considered as constraint!!! >>>\n",
    "    constraint = [x[:, t + 1] == A * x[:, t] + B * u[:, t],\n",
    "              norm(u[:, t], 'inf') <= 1]\n",
    "    prob_list.append(Problem(Minimize(J), constraint))"
   ]
  },
  {
   "cell_type": "code",
   "execution_count": 19,
   "metadata": {},
   "outputs": [],
   "source": [
    "prob_ = sum(prob_list)\n",
    "# add initial constraint >>>\n",
    "constr = prob_.constraints + [x[:, T] == 0, x[:, 0] == x_0.flatten()]\n",
    "# prob_.constraints.append([x[:, T].value == 0, x[:, 0].value == x_0.flatten()])\n",
    "# redfine the optimization problem !!! >>>\n",
    "prob = Problem(prob_.objective, constr)"
   ]
  },
  {
   "cell_type": "code",
   "execution_count": 20,
   "metadata": {},
   "outputs": [
    {
     "name": "stdout",
     "output_type": "stream",
     "text": [
      "-----------------------------------------------------------------\n",
      "           OSQP v0.5.0  -  Operator Splitting QP Solver\n",
      "              (c) Bartolomeo Stellato,  Goran Banjac\n",
      "        University of Oxford  -  Stanford University 2018\n",
      "-----------------------------------------------------------------\n",
      "problem:  variables n = 654, constraints m = 758\n",
      "          nnz(P) + nnz(A) = 2758\n",
      "settings: linear system solver = qdldl,\n",
      "          eps_abs = 1.0e-03, eps_rel = 1.0e-03,\n",
      "          eps_prim_inf = 1.0e-04, eps_dual_inf = 1.0e-04,\n",
      "          rho = 1.00e-01 (adaptive),\n",
      "          sigma = 1.00e-06, alpha = 1.60, max_iter = 4000\n",
      "          check_termination: on (interval 25),\n",
      "          scaling: on, scaled_termination: off\n",
      "          warm start: on, polish: on\n",
      "\n",
      "iter   objective    pri res    dua res    rho        time\n",
      "   1   0.0000e+00   4.68e+00   5.96e+02   1.00e-01   5.82e-04s\n",
      " 200   6.3345e+02   2.69e-01   2.62e-01   8.48e+00   1.74e-03s\n",
      " 400   1.0196e+03   1.17e-01   2.01e-01   8.48e+00   4.96e-03s\n",
      " 600   1.2102e+03   7.28e-02   3.77e-02   8.48e+00   8.16e-03s\n",
      " 800   1.3467e+03   4.80e-02   2.67e-02   8.48e+00   1.14e-02s\n",
      "1000   1.4342e+03   3.93e-02   1.44e-02   8.48e+00   1.45e-02s\n",
      "1200   1.4777e+03   3.00e-02   1.17e-02   8.48e+00   1.77e-02s\n",
      "1400   1.5179e+03   2.34e-02   8.47e-03   8.48e+00   2.09e-02s\n",
      "1600   1.5512e+03   1.83e-02   6.62e-03   8.48e+00   2.41e-02s\n",
      "1800   1.5781e+03   1.43e-02   5.18e-03   8.48e+00   2.72e-02s\n",
      "2000   1.5997e+03   1.12e-02   4.05e-03   8.48e+00   3.04e-02s\n",
      "2200   1.6169e+03   8.74e-03   3.17e-03   8.48e+00   3.36e-02s\n",
      "2400   1.6305e+03   6.84e-03   2.48e-03   8.48e+00   3.68e-02s\n",
      "2575   1.6400e+03   5.51e-03   2.00e-03   8.48e+00   3.96e-02s\n",
      "\n",
      "status:               solved\n",
      "solution polish:      unsuccessful\n",
      "number of iterations: 2575\n",
      "optimal objective:    1640.0067\n",
      "run time:             3.99e-02s\n",
      "optimal rho estimate: 2.29e+01\n",
      "\n",
      "calc time:0.4020662307739258[sec]\n"
     ]
    }
   ],
   "source": [
    "t_0 = time.time()\n",
    "result = prob.solve(verbose=True)\n",
    "t_T = time.time() - t_0\n",
    "print (\">> calculation time:{0}\".format(t_T) + \"[sec]\")\n",
    "\n",
    "if result == float(\"inf\"):\n",
    "    print(\"Cannot optimize\")\n",
    "    import sys\n",
    "    sys.exit()\n",
    "    #  return\n"
   ]
  },
  {
   "cell_type": "code",
   "execution_count": 21,
   "metadata": {},
   "outputs": [
    {
     "data": {
      "image/png": "[encoded data removed]",
      "text/plain": [
       "<matplotlib.figure.Figure at 0x7f8ef65c9c88>"
      ]
     },
     "metadata": {
      "needs_background": "light"
     },
     "output_type": "display_data"
    }
   ],
   "source": [
    "f = plt.figure()\n",
    "# Plot (u_t)_1.\n",
    "ax = f.add_subplot(211)\n",
    "u1 = np.array(u[0, :].value).tolist()\n",
    "u2 = np.array(u[1, :].value).tolist()\n",
    "plt.plot(u1, '-r', label=\"u1\")\n",
    "plt.plot(u2, '-b', label=\"u2\")\n",
    "plt.ylabel(r\"$u_t$\", fontsize=16)\n",
    "plt.yticks(np.linspace(-1.0, 1.0, 3))\n",
    "plt.legend()\n",
    "plt.grid(True)\n",
    "\n",
    "# Plot (u_t)_2.\n",
    "plt.subplot(2, 1, 2)\n",
    "x1 = np.array(x[0, :].value).tolist()\n",
    "x2 = np.array(x[1, :].value).tolist()\n",
    "x3 = np.array(x[2, :].value).tolist()\n",
    "x4 = np.array(x[3, :].value).tolist()\n",
    "plt.plot(range(T + 1), x1, '-r', label=\"x1\")\n",
    "plt.plot(range(T + 1), x2, '-b', label=\"x2\")\n",
    "plt.plot(range(T + 1), x3, '-g', label=\"x3\")\n",
    "plt.plot(range(T + 1), x4, '-k', label=\"x4\")\n",
    "plt.yticks([-25, 0, 25])\n",
    "plt.ylim([-25, 25])\n",
    "plt.ylabel(r\"$x_t$\", fontsize=16)\n",
    "plt.xlabel(r\"$t$\", fontsize=16)\n",
    "plt.grid(True)\n",
    "plt.legend()\n",
    "plt.tight_layout()\n",
    "plt.show()\n"
   ]
  },
  {
   "cell_type": "code",
   "execution_count": null,
   "metadata": {},
   "outputs": [],
   "source": []
  }
 ],
 "metadata": {
  "kernelspec": {
   "display_name": "Python 3",
   "language": "python",
   "name": "python3"
  },
  "language_info": {
   "codemirror_mode": {
    "name": "ipython",
    "version": 3
   },
   "file_extension": ".py",
   "mimetype": "text/x-python",
   "name": "python",
   "nbconvert_exporter": "python",
   "pygments_lexer": "ipython3",
   "version": "3.6.5"
  }
 },
 "nbformat": 4,
 "nbformat_minor": 2
}
