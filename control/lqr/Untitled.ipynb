{
 "cells": [
  {
   "cell_type": "code",
   "execution_count": 13,
   "metadata": {},
   "outputs": [],
   "source": [
    "import sys\n",
    "sys.path.append('../planning/')\n"
   ]
  },
  {
   "cell_type": "code",
   "execution_count": 15,
   "metadata": {},
   "outputs": [
    {
     "data": {
      "text/plain": [
       "['',\n",
       " '/home/wonchul/.virtualenvs/p3/lib/python36.zip',\n",
       " '/home/wonchul/.virtualenvs/p3/lib/python3.6',\n",
       " '/home/wonchul/.virtualenvs/p3/lib/python3.6/lib-dynload',\n",
       " '/usr/lib/python3.6',\n",
       " '/home/wonchul/.virtualenvs/p3/lib/python3.6/site-packages',\n",
       " '/home/wonchul/.virtualenvs/p3/lib/python3.6/site-packages/uArm_Python_SDK-2.0.3-py3.6.egg',\n",
       " '/home/wonchul/.virtualenvs/p3/lib/python3.6/site-packages/pyserial-3.4-py3.6.egg',\n",
       " '/home/wonchul/gym',\n",
       " '/home/wonchul/.virtualenvs/p3/lib/python3.6/site-packages/mujoco_py-1.50.1.61-py3.6.egg',\n",
       " '/home/wonchul/roboschool',\n",
       " '/home/wonchul/research/projects/donkey_car/donkey_gym',\n",
       " '/home/wonchul/.virtualenvs/p3/lib/python3.6/site-packages/robopy-1.0.8-py3.6.egg',\n",
       " '/home/wonchul/.virtualenvs/p3/lib/python3.6/site-packages/IPython/extensions',\n",
       " '/home/wonchul/.ipython',\n",
       " '../',\n",
       " '../',\n",
       " '../planning',\n",
       " '../planning/',\n",
       " '../planning/']"
      ]
     },
     "execution_count": 15,
     "metadata": {},
     "output_type": "execute_result"
    }
   ],
   "source": [
    "sys.path"
   ]
  },
  {
   "cell_type": "code",
   "execution_count": 14,
   "metadata": {},
   "outputs": [
    {
     "ename": "ModuleNotFoundError",
     "evalue": "No module named 'cubic_spline_planner'",
     "output_type": "error",
     "traceback": [
      "\u001b[0;31m---------------------------------------------------------------------------\u001b[0m",
      "\u001b[0;31mModuleNotFoundError\u001b[0m                       Traceback (most recent call last)",
      "\u001b[0;32m<ipython-input-14-756bb17190d0>\u001b[0m in \u001b[0;36m<module>\u001b[0;34m\u001b[0m\n\u001b[0;32m----> 1\u001b[0;31m \u001b[0;32mimport\u001b[0m \u001b[0mcubic_spline_planner\u001b[0m\u001b[0;34m\u001b[0m\u001b[0m\n\u001b[0m\u001b[1;32m      2\u001b[0m \u001b[0;32mimport\u001b[0m \u001b[0mnumpy\u001b[0m \u001b[0;32mas\u001b[0m \u001b[0mnp\u001b[0m\u001b[0;34m\u001b[0m\u001b[0m\n\u001b[1;32m      3\u001b[0m \u001b[0;32mimport\u001b[0m \u001b[0mmath\u001b[0m\u001b[0;34m\u001b[0m\u001b[0m\n\u001b[1;32m      4\u001b[0m \u001b[0;32mimport\u001b[0m \u001b[0mmatplotlib\u001b[0m\u001b[0;34m.\u001b[0m\u001b[0mpyplot\u001b[0m \u001b[0;32mas\u001b[0m \u001b[0mplt\u001b[0m\u001b[0;34m\u001b[0m\u001b[0m\n\u001b[1;32m      5\u001b[0m \u001b[0;32mimport\u001b[0m \u001b[0mscipy\u001b[0m\u001b[0;34m.\u001b[0m\u001b[0mlinalg\u001b[0m \u001b[0;32mas\u001b[0m \u001b[0mla\u001b[0m\u001b[0;34m\u001b[0m\u001b[0m\n",
      "\u001b[0;31mModuleNotFoundError\u001b[0m: No module named 'cubic_spline_planner'"
     ]
    }
   ],
   "source": [
    "import cubic_spline_planner\n",
    "import numpy as np\n",
    "import math\n",
    "import matplotlib.pyplot as plt\n",
    "import scipy.linalg as la\n"
   ]
  },
  {
   "cell_type": "code",
   "execution_count": null,
   "metadata": {},
   "outputs": [],
   "source": []
  }
 ],
 "metadata": {
  "kernelspec": {
   "display_name": "Python 3",
   "language": "python",
   "name": "python3"
  },
  "language_info": {
   "codemirror_mode": {
    "name": "ipython",
    "version": 3
   },
   "file_extension": ".py",
   "mimetype": "text/x-python",
   "name": "python",
   "nbconvert_exporter": "python",
   "pygments_lexer": "ipython3",
   "version": "3.6.5"
  }
 },
 "nbformat": 4,
 "nbformat_minor": 2
}
